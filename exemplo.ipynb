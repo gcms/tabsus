{
 "cells": [
  {
   "cell_type": "code",
   "execution_count": 1,
   "outputs": [
    {
     "data": {
      "text/plain": "['Motivo de Erro.DEF', 'RD2008.DEF', 'RJ2008.DEF', 'SP2008.DEF']"
     },
     "execution_count": 1,
     "metadata": {},
     "output_type": "execute_result"
    }
   ],
   "source": [
    "import sys\n",
    "\n",
    "sys.path.insert(0, \"src\")\n",
    "import tabsus\n",
    "\n",
    "# Carrega arquivos de tabulação para base de dados\n",
    "sih = tabsus.DATABASES['SIH'].tabsus\n",
    "\n",
    "# Definições disponíveis\n",
    "sih.definitions"
   ],
   "metadata": {
    "collapsed": false,
    "pycharm": {
     "name": "#%%\n"
    }
   }
  },
  {
   "cell_type": "code",
   "execution_count": 2,
   "outputs": [
    {
     "name": "stdout",
     "output_type": "stream",
     "text": [
      "RD2008.DEF\n",
      "Movimento de AIH - Arquivos Reduzidos\n"
     ]
    }
   ],
   "source": [
    "# Nome e descrição\n",
    "rd2008 = sih['RD2008']\n",
    "print(rd2008.name)\n",
    "print(rd2008.description)"
   ],
   "metadata": {
    "collapsed": false,
    "pycharm": {
     "name": "#%%\n"
    }
   }
  },
  {
   "cell_type": "code",
   "execution_count": 3,
   "outputs": [
    {
     "data": {
      "text/plain": "[Região internação, UF internação, Município internação, Capital internação, Região metrop. internação, CIR internação, Aglomerado urbano internação, Mesorregião internação, Microrregião internação, Macrorregião saúde internação, Microrregião saúde internação, Região adm DF internação, Natureza, Regime, Natureza Jurídica, Esfera Jurídica, Gestão, Ano processamento, Ano/Mês processamento, Sexo, Faixa etária (5), Faixa etária (9), Faixa etária (18), Idade detalhada, Cor/raça, Etnia, Região de Residência, Unid da Federação de Resid., Capital de Residência, Nacionalidade, Grupo ativ.econômica, Vínculo previdenciário, Leito\\Especialidade, Identificação, Tipo de AIH, Seqüencial, Caráter atendimento, Teve diárias UTI, Tipo de UTI, Tipo de UCI, Ano de internação, Ano/Mês internação, Ano de saída, Mês de saída, Ano/Mês de saída, Dias permanência, Motivo Saída/Permanência, Óbitos, Grupo de Procedimentos, SubGrupo de Procedimentos, Forma de Organização, Financiamento, SubTp FAEC, Regra Contratual, Complexidade do Procedimento, Procedimentos obstétricos, Cirurgia CardioVasculares, Cirurgia Vascular, Cardio Intervenção, Cirurgia EndoVascular, Estudo Eletrofisiológico, Fez VDRL, Infecção Hospitalar, Diagnóstico CID10 (capítulo), Diagnóstico CID10 (grupo), Agravo Notificação Compulsória, Sensíveis Atenção Básica 3, Agravo Notificação Bloq, Diagnóstico CID10 PactoAB, Classificação.CID Sec 1, Classificação.CID Sec 2, Classificação.CID Sec 3, Classificação.CID Sec 4, Classificação.CID Sec 5, Classificação.CID Sec 6, Classificação.CID Sec 7, Classificação.CID Sec 8, Classificação.CID Sec 9, Diagnóstico Sec. CID10 (capit), Diagnóstico Sec. CID10 (grupo), Causa Associada(capit), Causa Associada(grupo), Causa Óbito(capit), Causa Óbito(grupo), Número de filhos, Grau de instrução, Contraceptivo 1, Contraceptivo 2, Gestante de risco, Inscrição pré-natal, Autorização gestor]"
     },
     "metadata": {},
     "output_type": "display_data"
    },
    {
     "data": {
      "text/plain": "[Região e UF internação, UF internação, Região internação, Município internação, Capital internação, Região metrop. internação, CIR internação, Aglomerado urbano internação, Mesorregião internação, Microrregião internação, Macrorregião saúde internação, Microrregião saúde internação, Região adm DF internação, HU's MEC EBSERH (CNES), HU's Filiados EBSERH (CNES), Hospitais Federais RJ, Hospital BR (CNES), Hospital AC (CNES), Hospital AL (CNES), Hospital AM (CNES), Hospital AP (CNES), Hospital BA (CNES), Hospital CE (CNES), Hospital DF (CNES), Hospital ES (CNES), Hospital GO (CNES), Hospital MA (CNES), Hospital MG (CNES), Hospital MS (CNES), Hospital MT (CNES), Hospital PA (CNES), Hospital PB (CNES), Hospital PE (CNES), Hospital PI (CNES), Hospital PR (CNES), Hospital RJ (CNES), Hospital RN (CNES), Hospital RO (CNES), Hospital RR (CNES), Hospital RS (CNES), Hospital SC (CNES), Hospital SE (CNES), Hospital SP (CNES), Hospital TO (CNES), Hospital BR (CNPJ), Hospital AC (CNPJ), Hospital AL (CNPJ), Hospital AM (CNPJ), Hospital AP (CNPJ), Hospital BA (CNPJ), Hospital CE (CNPJ), Hospital DF (CNPJ), Hospital ES (CNPJ), Hospital GO (CNPJ), Hospital MA (CNPJ), Hospital MG (CNPJ), Hospital MS (CNPJ), Hospital MT (CNPJ), Hospital PA (CNPJ), Hospital PB (CNPJ), Hospital PE (CNPJ), Hospital PI (CNPJ), Hospital PR (CNPJ), Hospital RJ (CNPJ), Hospital RN (CNPJ), Hospital RO (CNPJ), Hospital RR (CNPJ), Hospital RS (CNPJ), Hospital SC (CNPJ), Hospital SE (CNPJ), Hospital SP (CNPJ), Hospital TO (CNPJ), Mantenedora, Natureza, Regime, Natureza Jurídica, Esfera Jurídica, Gestão, Município gestor, Ano processamento, Ano/Mês processamento, Sexo, Faixa etária (5), Faixa etária (9), Faixa etária (18), Idade detalhada, Cor/raça, Etnia, Região de Residência, Região/UF de Residência, Unid da Federação de Resid., Município de Residência, Capital de Residência, Região de Saúde (CIR) de Resid., Macrorregião Saúde Residência, Microrregião IBGE de Resid., Região Metrop - RIDE de Resid., Territ da Cidadania de Resid., Mesorregião PNDR de Resid., Nacionalidade, Ocupação, Grupo ativ.econômica, Atividade  econômica, Vínculo previdenciário, Leito\\Especialidade, Identificação, Tipo de AIH, Seqüencial, Caráter atendimento, Teve diárias UTI, Tipo de UTI, Tipo de UCI, Ano de internação, Ano/Mês internação, Ano de saída, Mês de saída, Ano/Mês de saída, Dias permanência, Motivo Saída/Permanência, Óbitos, Procedimentos realizados, Procedimentos Em Uso, Grupo de Procedimentos, SubGrupo de Procedimentos, Forma de Organização, Financiamento, SubTp FAEC, Regra Contratual, Complexidade do Procedimento, Procedimentos obstétricos, Cirurgia CardioVasculares, Cirurgia Vascular, Cardio Intervenção, Cirurgia EndoVascular, Estudo Eletrofisiológico, Procedimentos Solicitados, Fez VDRL, Infecção Hospitalar, Diagnóstico CID10 (capítulo), Diagnóstico CID10 (grupo), Diagnóstico CID10 (categoria), Agravo Notificação Compulsória, Sensíveis Atenção Básica 1, Sensíveis Atenção Básica 2, Sensíveis Atenção Básica 3, Agravo Notificação Bloq, Diagnóstico CID10 cap 01, Diagnóstico CID10 cap 02, Diagnóstico CID10 cap 03, Diagnóstico CID10 cap 04, Diagnóstico CID10 cap 05, Diagnóstico CID10 cap 06, Diagnóstico CID10 cap 07, Diagnóstico CID10 cap 08, Diagnóstico CID10 cap 09, Diagnóstico CID10 cap 10, Diagnóstico CID10 cap 11, Diagnóstico CID10 cap 12, Diagnóstico CID10 cap 13, Diagnóstico CID10 cap 14, Diagnóstico CID10 cap 15, Diagnóstico CID10 cap 16, Diagnóstico CID10 cap 17, Diagnóstico CID10 cap 18, Diagnóstico CID10 cap 19S, Diagnóstico CID10 cap 19T, Diagnóstico CID10 cap 20A, Diagnóstico CID10 cap 20B, Diagnóstico CID10 cap 20C, Diagnóstico CID10 cap 20D, Diagnóstico CID10 cap 20E, Diagnóstico CID10 cap 20F, Diagnóstico CID10 cap 21, Diagnóstico CID10 cap 22, Diagnóstico CID10 PactoAB, CID Secundário 1, CID Secundário 2, CID Secundário 3, CID Secundário 4, CID Secundário 5, CID Secundário 6, CID Secundário 7, CID Secundário 8, CID Secundário 9, Classificação.CID Sec 1, Classificação.CID Sec 2, Classificação.CID Sec 3, Classificação.CID Sec 4, Classificação.CID Sec 5, Classificação.CID Sec 6, Classificação.CID Sec 7, Classificação.CID Sec 8, Classificação.CID Sec 9, Diagnóstico Sec. CID10 (capit), Diagnóstico Sec. CID10 (grupo), Diagnóstico Sec. CID10 (categ), Diagnóstico Sec. CID10 cap 01, Diagnóstico Sec. CID10 cap 02, Diagnóstico Sec. CID10 cap 03, Diagnóstico Sec. CID10 cap 04, Diagnóstico Sec. CID10 cap 05, Diagnóstico Sec. CID10 cap 06, Diagnóstico Sec. CID10 cap 07, Diagnóstico Sec. CID10 cap 08, Diagnóstico Sec. CID10 cap 09, Diagnóstico Sec. CID10 cap 10, Diagnóstico Sec. CID10 cap 11, Diagnóstico Sec. CID10 cap 12, Diagnóstico Sec. CID10 cap 13, Diagnóstico Sec. CID10 cap 14, Diagnóstico Sec. CID10 cap 15, Diagnóstico Sec. CID10 cap 16, Diagnóstico Sec. CID10 cap 17, Diagnóstico Sec. CID10 cap 18, Diagnóstico Sec. CID10 cap 19S, Diagnóstico Sec. CID10 cap 19T, Diagnóstico Sec. CID10 cap 20A, Diagnóstico Sec. CID10 cap 20B, Diagnóstico Sec. CID10 cap 20C, Diagnóstico Sec. CID10 cap 20D, Diagnóstico Sec. CID10 cap 20E, Diagnóstico Sec. CID10 cap 20F, Diagnóstico Sec. CID10 cap 21, Diagnóstico Sec. CID10 cap 22, Causa Associada(capit), Causa Associada(grupo), Causa Associada(categ), Causa Óbito(capit), Causa Óbito(grupo), Causa Óbito(categ), Número de filhos, Grau de instrução, CID laqueadura (3 car), CID laqueadura (Cap15), CID laqueadura (Cap09), Contraceptivo 1, Contraceptivo 2, Gestante de risco, Inscrição pré-natal, Autorização gestor]"
     },
     "metadata": {},
     "output_type": "display_data"
    },
    {
     "data": {
      "text/plain": "[Região internação, UF internação, HU's MEC EBSERH (CNES), HU's Filiados EBSERH (CNES), Hospitais Federais RJ, Hospital BR (CNES), Hospital AC (CNES), Hospital AL (CNES), Hospital AM (CNES), Hospital AP (CNES), Hospital BA (CNES), Hospital CE (CNES), Hospital DF (CNES), Hospital ES (CNES), Hospital GO (CNES), Hospital MA (CNES), Hospital MG (CNES), Hospital MS (CNES), Hospital MT (CNES), Hospital PA (CNES), Hospital PB (CNES), Hospital PE (CNES), Hospital PI (CNES), Hospital PR (CNES), Hospital RJ (CNES), Hospital RN (CNES), Hospital RO (CNES), Hospital RR (CNES), Hospital RS (CNES), Hospital SC (CNES), Hospital SE (CNES), Hospital SP (CNES), Hospital TO (CNES), Hospital BR (CNPJ), Hospital AC (CNPJ), Hospital AL (CNPJ), Hospital AM (CNPJ), Hospital AP (CNPJ), Hospital BA (CNPJ), Hospital CE (CNPJ), Hospital DF (CNPJ), Hospital ES (CNPJ), Hospital GO (CNPJ), Hospital MA (CNPJ), Hospital MG (CNPJ), Hospital MS (CNPJ), Hospital MT (CNPJ), Hospital PA (CNPJ), Hospital PB (CNPJ), Hospital PE (CNPJ), Hospital PI (CNPJ), Hospital PR (CNPJ), Hospital RJ (CNPJ), Hospital RN (CNPJ), Hospital RO (CNPJ), Hospital RR (CNPJ), Hospital RS (CNPJ), Hospital SC (CNPJ), Hospital SE (CNPJ), Hospital SP (CNPJ), Hospital TO (CNPJ), Mantenedora, Natureza, Natureza Jurídica, Esfera Jurídica, Município gestor, Ano/Mês processamento, Região de Residência, Unid da Federação de Resid., Município de Residência, Capital de Residência, Região de Saúde (CIR) de Resid., Macrorregião Saúde Residência, Microrregião IBGE de Resid., Região Metrop - RIDE de Resid., Territ da Cidadania de Resid., Mesorregião PNDR de Resid., Ocupação, Atividade  econômica, Caráter atendimento, Ano/Mês internação, Ano/Mês de saída, Motivo Saída/Permanência, Procedimentos realizados, Procedimentos Em Uso, Grupo de Procedimentos, SubGrupo de Procedimentos, Forma de Organização, SubTp FAEC, Regra Contratual, Complexidade do Procedimento, Procedimentos obstétricos, Cirurgia CardioVasculares, Cirurgia Vascular, Cardio Intervenção, Cirurgia EndoVascular, Estudo Eletrofisiológico, Procedimentos Solicitados, Diagnóstico CID10 (capítulo), Diagnóstico CID10 (grupo), Diagnóstico CID10 (categoria), Agravo Notificação Compulsória, Sensíveis Atenção Básica 1, Sensíveis Atenção Básica 2, Sensíveis Atenção Básica 3, Agravo Notificação Bloq, Diagnóstico CID10 cap 01, Diagnóstico CID10 cap 02, Diagnóstico CID10 cap 03, Diagnóstico CID10 cap 04, Diagnóstico CID10 cap 05, Diagnóstico CID10 cap 06, Diagnóstico CID10 cap 07, Diagnóstico CID10 cap 08, Diagnóstico CID10 cap 09, Diagnóstico CID10 cap 10, Diagnóstico CID10 cap 11, Diagnóstico CID10 cap 12, Diagnóstico CID10 cap 13, Diagnóstico CID10 cap 14, Diagnóstico CID10 cap 15, Diagnóstico CID10 cap 16, Diagnóstico CID10 cap 17, Diagnóstico CID10 cap 18, Diagnóstico CID10 cap 19, Diagnóstico CID10 cap 20, Diagnóstico CID10 cap 21, Diagnóstico CID10 cap 22, CID Secundário 1, CID Secundário 2, CID Secundário 3, CID Secundário 4, CID Secundário 5, CID Secundário 6, CID Secundário 7, CID Secundário 8, CID Secundário 9, Classificação.CID Sec 1, Classificação.CID Sec 2, Classificação.CID Sec 3, Classificação.CID Sec 4, Classificação.CID Sec 5, Classificação.CID Sec 6, Classificação.CID Sec 7, Classificação.CID Sec 8, Classificação.CID Sec 9, Diagnóstico Sec. CID10 (capit), Diagnóstico Sec. CID10 (grupo), Diagnóstico Sec. CID10 (categ), Diagnóstico Sec. CID10 cap 01, Diagnóstico Sec. CID10 cap 02, Diagnóstico Sec. CID10 cap 03, Diagnóstico Sec. CID10 cap 04, Diagnóstico Sec. CID10 cap 05, Diagnóstico Sec. CID10 cap 06, Diagnóstico Sec. CID10 cap 07, Diagnóstico Sec. CID10 cap 09, Diagnóstico Sec. CID10 cap 10, Diagnóstico Sec. CID10 cap 11, Diagnóstico Sec. CID10 cap 12, Diagnóstico Sec. CID10 cap 13, Diagnóstico Sec. CID10 cap 14, Diagnóstico Sec. CID10 cap 15, Diagnóstico Sec. CID10 cap 16, Diagnóstico Sec. CID10 cap 17, Diagnóstico Sec. CID10 cap 18, Diagnóstico Sec. CID10 cap 19, Diagnóstico Sec. CID10 cap 20, Diagnóstico Sec. CID10 cap 21, Diagnóstico Sec. CID10 cap 22, Causa Associada(capit), Causa Associada(grupo), Causa Associada(categ), Causa Óbito(capit), Causa Óbito(grupo), Causa Óbito(categ), CID laqueadura (Cap15), CID laqueadura (Cap09)]"
     },
     "metadata": {},
     "output_type": "display_data"
    },
    {
     "data": {
      "text/plain": "[Valor Total, Valor Serv. Hospitalar, Valor Serv. Hospitalar Federal, Valor Serv. Hopspitalar Gestor, Valor Serv. Profissional, Valor Serv. Prof. Federal, Valor Serv. Prof. Gestor, Valor UTI, Valor UCI, Óbitos, Permanência, Diárias, Diárias de UTI, Diárias UCI, Diárias Acompanhantes]"
     },
     "metadata": {},
     "output_type": "display_data"
    }
   ],
   "source": [
    "# Colunas, linhas, seleções e incrementos\n",
    "display(rd2008.columns)\n",
    "display(rd2008.rows)\n",
    "display(rd2008.selections)\n",
    "display(rd2008.increments)"
   ],
   "metadata": {
    "collapsed": false,
    "pycharm": {
     "name": "#%%\n"
    }
   }
  },
  {
   "cell_type": "code",
   "execution_count": 4,
   "outputs": [
    {
     "data": {
      "text/plain": "['Norte', 'Nordeste', 'Sudeste', 'Sul', 'C.Oeste', 'Ign/Ext']"
     },
     "metadata": {},
     "output_type": "display_data"
    },
    {
     "data": {
      "text/plain": "['Sem informação', 'Indígena', 'Amarela', 'Parda', 'Preta', 'Branca']"
     },
     "metadata": {},
     "output_type": "display_data"
    },
    {
     "data": {
      "text/plain": "['Não utilizou UTI',\n 'UTI adulto - tipo II COVID 19',\n 'UTI pediátrica - tipo II COVID 19',\n 'UTI adulto - tipo I',\n 'UTI adulto - tipo II',\n 'UTI adulto - tipo III',\n 'UTI infantil - tipo I',\n 'UTI infantil - tipo II',\n 'UTI infantil - tipo III',\n 'UTI neonatal - tipo I',\n 'UTI neonatal - tipo II',\n 'UTI neonatal - tipo III',\n 'UTI de queimados',\n 'UTI coronariana tipo II - UCO tipo II',\n 'UTI coronariana tipo III - UCO tipo III',\n 'UTI Doador',\n 'Utilizou mais de um tipo de UTI']"
     },
     "metadata": {},
     "output_type": "display_data"
    }
   ],
   "source": [
    "# Valores possíveis para cada campo\n",
    "display(rd2008.columns['Região internação'].values)\n",
    "display(rd2008['Cor/raça'].values)\n",
    "display(rd2008.rows['Tipo de UTI'].values)"
   ],
   "metadata": {
    "collapsed": false,
    "pycharm": {
     "name": "#%%\n"
    }
   }
  },
  {
   "cell_type": "code",
   "execution_count": 5,
   "metadata": {
    "collapsed": true
   },
   "outputs": [
    {
     "data": {
      "text/plain": "       UF_ZI ANO_CMPT MES_CMPT ESPEC        CGC_HOSP          N_AIH IDENT  \\\n0     120000     2020       01    03  04034526000224  1220100002880     1   \n1     120000     2020       01    03  04034526000224  1220100002891     1   \n2     120000     2020       01    03  04034526000224  1220100004068     1   \n3     120000     2020       01    07  04034526000224  1219100548732     1   \n4     120000     2020       01    07  04034526000224  1219100548743     1   \n...      ...      ...      ...   ...             ...            ...   ...   \n3779  120000     2020       01    02  04034526000305  1219100470731     1   \n3780  120000     2020       01    02  04034526000305  1219100470852     1   \n3781  120000     2020       01    02  04034526000305  1219100470929     1   \n3782  120000     2020       01    02  04034526000305  1219100470951     1   \n3783  120000     2020       01    02  04034526000305  1219100514380     1   \n\n           CEP MUNIC_RES      NASC  ... DIAGSEC9  TPDISEC1  TPDISEC2  \\\n0     69920193    120040  19881019  ...                  0         0   \n1     69905440    120040  19530519  ...                  0         0   \n2     69902100    120040  20180719  ...                  0         0   \n3     69905292    120040  20181103  ...                  0         0   \n4     69900970    120040  20190110  ...                  0         0   \n...        ...       ...       ...  ...      ...       ...       ...   \n3779  69900970    120040  20020725  ...                  0         0   \n3780  69900970    120040  19930703  ...                  0         0   \n3781  69830000    130240  20030112  ...                  0         0   \n3782  69900970    120040  19990123  ...                  0         0   \n3783  69911075    120040  19860423  ...                  0         0   \n\n      TPDISEC3  TPDISEC4 TPDISEC5  TPDISEC6  TPDISEC7  TPDISEC8  TPDISEC9  \n0            0         0        0         0         0         0         0  \n1            0         0        0         0         0         0         0  \n2            0         0        0         0         0         0         0  \n3            0         0        0         0         0         0         0  \n4            0         0        0         0         0         0         0  \n...        ...       ...      ...       ...       ...       ...       ...  \n3779         0         0        0         0         0         0         0  \n3780         0         0        0         0         0         0         0  \n3781         0         0        0         0         0         0         0  \n3782         0         0        0         0         0         0         0  \n3783         0         0        0         0         0         0         0  \n\n[3784 rows x 113 columns]",
      "text/html": "<div>\n<style scoped>\n    .dataframe tbody tr th:only-of-type {\n        vertical-align: middle;\n    }\n\n    .dataframe tbody tr th {\n        vertical-align: top;\n    }\n\n    .dataframe thead th {\n        text-align: right;\n    }\n</style>\n<table border=\"1\" class=\"dataframe\">\n  <thead>\n    <tr style=\"text-align: right;\">\n      <th></th>\n      <th>UF_ZI</th>\n      <th>ANO_CMPT</th>\n      <th>MES_CMPT</th>\n      <th>ESPEC</th>\n      <th>CGC_HOSP</th>\n      <th>N_AIH</th>\n      <th>IDENT</th>\n      <th>CEP</th>\n      <th>MUNIC_RES</th>\n      <th>NASC</th>\n      <th>...</th>\n      <th>DIAGSEC9</th>\n      <th>TPDISEC1</th>\n      <th>TPDISEC2</th>\n      <th>TPDISEC3</th>\n      <th>TPDISEC4</th>\n      <th>TPDISEC5</th>\n      <th>TPDISEC6</th>\n      <th>TPDISEC7</th>\n      <th>TPDISEC8</th>\n      <th>TPDISEC9</th>\n    </tr>\n  </thead>\n  <tbody>\n    <tr>\n      <th>0</th>\n      <td>120000</td>\n      <td>2020</td>\n      <td>01</td>\n      <td>03</td>\n      <td>04034526000224</td>\n      <td>1220100002880</td>\n      <td>1</td>\n      <td>69920193</td>\n      <td>120040</td>\n      <td>19881019</td>\n      <td>...</td>\n      <td></td>\n      <td>0</td>\n      <td>0</td>\n      <td>0</td>\n      <td>0</td>\n      <td>0</td>\n      <td>0</td>\n      <td>0</td>\n      <td>0</td>\n      <td>0</td>\n    </tr>\n    <tr>\n      <th>1</th>\n      <td>120000</td>\n      <td>2020</td>\n      <td>01</td>\n      <td>03</td>\n      <td>04034526000224</td>\n      <td>1220100002891</td>\n      <td>1</td>\n      <td>69905440</td>\n      <td>120040</td>\n      <td>19530519</td>\n      <td>...</td>\n      <td></td>\n      <td>0</td>\n      <td>0</td>\n      <td>0</td>\n      <td>0</td>\n      <td>0</td>\n      <td>0</td>\n      <td>0</td>\n      <td>0</td>\n      <td>0</td>\n    </tr>\n    <tr>\n      <th>2</th>\n      <td>120000</td>\n      <td>2020</td>\n      <td>01</td>\n      <td>03</td>\n      <td>04034526000224</td>\n      <td>1220100004068</td>\n      <td>1</td>\n      <td>69902100</td>\n      <td>120040</td>\n      <td>20180719</td>\n      <td>...</td>\n      <td></td>\n      <td>0</td>\n      <td>0</td>\n      <td>0</td>\n      <td>0</td>\n      <td>0</td>\n      <td>0</td>\n      <td>0</td>\n      <td>0</td>\n      <td>0</td>\n    </tr>\n    <tr>\n      <th>3</th>\n      <td>120000</td>\n      <td>2020</td>\n      <td>01</td>\n      <td>07</td>\n      <td>04034526000224</td>\n      <td>1219100548732</td>\n      <td>1</td>\n      <td>69905292</td>\n      <td>120040</td>\n      <td>20181103</td>\n      <td>...</td>\n      <td></td>\n      <td>0</td>\n      <td>0</td>\n      <td>0</td>\n      <td>0</td>\n      <td>0</td>\n      <td>0</td>\n      <td>0</td>\n      <td>0</td>\n      <td>0</td>\n    </tr>\n    <tr>\n      <th>4</th>\n      <td>120000</td>\n      <td>2020</td>\n      <td>01</td>\n      <td>07</td>\n      <td>04034526000224</td>\n      <td>1219100548743</td>\n      <td>1</td>\n      <td>69900970</td>\n      <td>120040</td>\n      <td>20190110</td>\n      <td>...</td>\n      <td></td>\n      <td>0</td>\n      <td>0</td>\n      <td>0</td>\n      <td>0</td>\n      <td>0</td>\n      <td>0</td>\n      <td>0</td>\n      <td>0</td>\n      <td>0</td>\n    </tr>\n    <tr>\n      <th>...</th>\n      <td>...</td>\n      <td>...</td>\n      <td>...</td>\n      <td>...</td>\n      <td>...</td>\n      <td>...</td>\n      <td>...</td>\n      <td>...</td>\n      <td>...</td>\n      <td>...</td>\n      <td>...</td>\n      <td>...</td>\n      <td>...</td>\n      <td>...</td>\n      <td>...</td>\n      <td>...</td>\n      <td>...</td>\n      <td>...</td>\n      <td>...</td>\n      <td>...</td>\n      <td>...</td>\n    </tr>\n    <tr>\n      <th>3779</th>\n      <td>120000</td>\n      <td>2020</td>\n      <td>01</td>\n      <td>02</td>\n      <td>04034526000305</td>\n      <td>1219100470731</td>\n      <td>1</td>\n      <td>69900970</td>\n      <td>120040</td>\n      <td>20020725</td>\n      <td>...</td>\n      <td></td>\n      <td>0</td>\n      <td>0</td>\n      <td>0</td>\n      <td>0</td>\n      <td>0</td>\n      <td>0</td>\n      <td>0</td>\n      <td>0</td>\n      <td>0</td>\n    </tr>\n    <tr>\n      <th>3780</th>\n      <td>120000</td>\n      <td>2020</td>\n      <td>01</td>\n      <td>02</td>\n      <td>04034526000305</td>\n      <td>1219100470852</td>\n      <td>1</td>\n      <td>69900970</td>\n      <td>120040</td>\n      <td>19930703</td>\n      <td>...</td>\n      <td></td>\n      <td>0</td>\n      <td>0</td>\n      <td>0</td>\n      <td>0</td>\n      <td>0</td>\n      <td>0</td>\n      <td>0</td>\n      <td>0</td>\n      <td>0</td>\n    </tr>\n    <tr>\n      <th>3781</th>\n      <td>120000</td>\n      <td>2020</td>\n      <td>01</td>\n      <td>02</td>\n      <td>04034526000305</td>\n      <td>1219100470929</td>\n      <td>1</td>\n      <td>69830000</td>\n      <td>130240</td>\n      <td>20030112</td>\n      <td>...</td>\n      <td></td>\n      <td>0</td>\n      <td>0</td>\n      <td>0</td>\n      <td>0</td>\n      <td>0</td>\n      <td>0</td>\n      <td>0</td>\n      <td>0</td>\n      <td>0</td>\n    </tr>\n    <tr>\n      <th>3782</th>\n      <td>120000</td>\n      <td>2020</td>\n      <td>01</td>\n      <td>02</td>\n      <td>04034526000305</td>\n      <td>1219100470951</td>\n      <td>1</td>\n      <td>69900970</td>\n      <td>120040</td>\n      <td>19990123</td>\n      <td>...</td>\n      <td></td>\n      <td>0</td>\n      <td>0</td>\n      <td>0</td>\n      <td>0</td>\n      <td>0</td>\n      <td>0</td>\n      <td>0</td>\n      <td>0</td>\n      <td>0</td>\n    </tr>\n    <tr>\n      <th>3783</th>\n      <td>120000</td>\n      <td>2020</td>\n      <td>01</td>\n      <td>02</td>\n      <td>04034526000305</td>\n      <td>1219100514380</td>\n      <td>1</td>\n      <td>69911075</td>\n      <td>120040</td>\n      <td>19860423</td>\n      <td>...</td>\n      <td></td>\n      <td>0</td>\n      <td>0</td>\n      <td>0</td>\n      <td>0</td>\n      <td>0</td>\n      <td>0</td>\n      <td>0</td>\n      <td>0</td>\n      <td>0</td>\n    </tr>\n  </tbody>\n</table>\n<p>3784 rows × 113 columns</p>\n</div>"
     },
     "execution_count": 5,
     "metadata": {},
     "output_type": "execute_result"
    }
   ],
   "source": [
    "import os.path\n",
    "import pandas\n",
    "from dbfread import DBF\n",
    "\n",
    "\n",
    "def load_example_file():\n",
    "    file = os.path.join(os.getcwd(), './tests/resources/sample.dbf')\n",
    "    return pandas.DataFrame(DBF(file))\n",
    "\n",
    "df = load_example_file()\n",
    "df"
   ]
  },
  {
   "cell_type": "code",
   "execution_count": 8,
   "metadata": {},
   "outputs": [
    {
     "data": {
      "text/plain": "            N_AIH\n1-4 anos      133\n15-49 anos   2363\n5-14 anos     228\n50e + anos    888\n< 1 ano       172",
      "text/html": "<div>\n<style scoped>\n    .dataframe tbody tr th:only-of-type {\n        vertical-align: middle;\n    }\n\n    .dataframe tbody tr th {\n        vertical-align: top;\n    }\n\n    .dataframe thead th {\n        text-align: right;\n    }\n</style>\n<table border=\"1\" class=\"dataframe\">\n  <thead>\n    <tr style=\"text-align: right;\">\n      <th></th>\n      <th>N_AIH</th>\n    </tr>\n  </thead>\n  <tbody>\n    <tr>\n      <th>1-4 anos</th>\n      <td>133</td>\n    </tr>\n    <tr>\n      <th>15-49 anos</th>\n      <td>2363</td>\n    </tr>\n    <tr>\n      <th>5-14 anos</th>\n      <td>228</td>\n    </tr>\n    <tr>\n      <th>50e + anos</th>\n      <td>888</td>\n    </tr>\n    <tr>\n      <th>&lt; 1 ano</th>\n      <td>172</td>\n    </tr>\n  </tbody>\n</table>\n</div>"
     },
     "execution_count": 8,
     "metadata": {},
     "output_type": "execute_result"
    }
   ],
   "source": [
    "# Classe para uso em conjunto com pandas.DataFrame\n",
    "rdtab = df.tabsus(rd2008)  # rdtab = tabsus.dataframe.DataFrameWrapper(rd2008, df)\n",
    "df.groupby(rdtab['Faixa etária (5)']).agg({'N_AIH': 'count'})"
   ]
  },
  {
   "cell_type": "code",
   "execution_count": 10,
   "outputs": [
    {
     "data": {
      "text/plain": "         Idade          N_AIH\n0      31 anos  1220100002880\n1      66 anos  1220100002891\n2        1 ano  1220100004068\n3        1 ano  1219100548732\n4     10 meses  1219100548743\n...        ...            ...\n3779   17 anos  1219100470731\n3780   26 anos  1219100470852\n3781   16 anos  1219100470929\n3782   20 anos  1219100470951\n3783   33 anos  1219100514380\n\n[3784 rows x 2 columns]",
      "text/html": "<div>\n<style scoped>\n    .dataframe tbody tr th:only-of-type {\n        vertical-align: middle;\n    }\n\n    .dataframe tbody tr th {\n        vertical-align: top;\n    }\n\n    .dataframe thead th {\n        text-align: right;\n    }\n</style>\n<table border=\"1\" class=\"dataframe\">\n  <thead>\n    <tr style=\"text-align: right;\">\n      <th></th>\n      <th>Idade</th>\n      <th>N_AIH</th>\n    </tr>\n  </thead>\n  <tbody>\n    <tr>\n      <th>0</th>\n      <td>31 anos</td>\n      <td>1220100002880</td>\n    </tr>\n    <tr>\n      <th>1</th>\n      <td>66 anos</td>\n      <td>1220100002891</td>\n    </tr>\n    <tr>\n      <th>2</th>\n      <td>1 ano</td>\n      <td>1220100004068</td>\n    </tr>\n    <tr>\n      <th>3</th>\n      <td>1 ano</td>\n      <td>1219100548732</td>\n    </tr>\n    <tr>\n      <th>4</th>\n      <td>10 meses</td>\n      <td>1219100548743</td>\n    </tr>\n    <tr>\n      <th>...</th>\n      <td>...</td>\n      <td>...</td>\n    </tr>\n    <tr>\n      <th>3779</th>\n      <td>17 anos</td>\n      <td>1219100470731</td>\n    </tr>\n    <tr>\n      <th>3780</th>\n      <td>26 anos</td>\n      <td>1219100470852</td>\n    </tr>\n    <tr>\n      <th>3781</th>\n      <td>16 anos</td>\n      <td>1219100470929</td>\n    </tr>\n    <tr>\n      <th>3782</th>\n      <td>20 anos</td>\n      <td>1219100470951</td>\n    </tr>\n    <tr>\n      <th>3783</th>\n      <td>33 anos</td>\n      <td>1219100514380</td>\n    </tr>\n  </tbody>\n</table>\n<p>3784 rows × 2 columns</p>\n</div>"
     },
     "execution_count": 10,
     "metadata": {},
     "output_type": "execute_result"
    }
   ],
   "source": [
    "df['Idade'] = rdtab['Idade detalhada']\n",
    "df[['Idade', 'N_AIH']]"
   ],
   "metadata": {
    "collapsed": false,
    "pycharm": {
     "name": "#%%\n"
    }
   }
  },
  {
   "cell_type": "code",
   "execution_count": 11,
   "outputs": [
    {
     "data": {
      "text/plain": "           N_AIH\nSEXO            \nFeminino    2367\nMasculino   1417",
      "text/html": "<div>\n<style scoped>\n    .dataframe tbody tr th:only-of-type {\n        vertical-align: middle;\n    }\n\n    .dataframe tbody tr th {\n        vertical-align: top;\n    }\n\n    .dataframe thead th {\n        text-align: right;\n    }\n</style>\n<table border=\"1\" class=\"dataframe\">\n  <thead>\n    <tr style=\"text-align: right;\">\n      <th></th>\n      <th>N_AIH</th>\n    </tr>\n    <tr>\n      <th>SEXO</th>\n      <th></th>\n    </tr>\n  </thead>\n  <tbody>\n    <tr>\n      <th>Feminino</th>\n      <td>2367</td>\n    </tr>\n    <tr>\n      <th>Masculino</th>\n      <td>1417</td>\n    </tr>\n  </tbody>\n</table>\n</div>"
     },
     "execution_count": 11,
     "metadata": {},
     "output_type": "execute_result"
    }
   ],
   "source": [
    "# Quantidade de internações por sexo\n",
    "df.groupby(rdtab['Sexo']).agg({'N_AIH': 'count'})"
   ],
   "metadata": {
    "collapsed": false,
    "pycharm": {
     "name": "#%%\n"
    }
   }
  },
  {
   "cell_type": "code",
   "execution_count": 15,
   "outputs": [
    {
     "output_type": "execute_result",
     "data": {
      "text/plain": [
       "                           N_AIH\n",
       "ESPEC                           \n",
       "01-Cirúrgico                 962\n",
       "02-Obstétricos               964\n",
       "03-Clínico                  1400\n",
       "04-Crônicos                    3\n",
       "05-Psiquiatria                51\n",
       "07-Pediátricos               353\n",
       "87-Saúde Mental (Clínico)     51"
      ],
      "text/html": "<div>\n<style scoped>\n    .dataframe tbody tr th:only-of-type {\n        vertical-align: middle;\n    }\n\n    .dataframe tbody tr th {\n        vertical-align: top;\n    }\n\n    .dataframe thead th {\n        text-align: right;\n    }\n</style>\n<table border=\"1\" class=\"dataframe\">\n  <thead>\n    <tr style=\"text-align: right;\">\n      <th></th>\n      <th>N_AIH</th>\n    </tr>\n    <tr>\n      <th>ESPEC</th>\n      <th></th>\n    </tr>\n  </thead>\n  <tbody>\n    <tr>\n      <th>01-Cirúrgico</th>\n      <td>962</td>\n    </tr>\n    <tr>\n      <th>02-Obstétricos</th>\n      <td>964</td>\n    </tr>\n    <tr>\n      <th>03-Clínico</th>\n      <td>1400</td>\n    </tr>\n    <tr>\n      <th>04-Crônicos</th>\n      <td>3</td>\n    </tr>\n    <tr>\n      <th>05-Psiquiatria</th>\n      <td>51</td>\n    </tr>\n    <tr>\n      <th>07-Pediátricos</th>\n      <td>353</td>\n    </tr>\n    <tr>\n      <th>87-Saúde Mental (Clínico)</th>\n      <td>51</td>\n    </tr>\n  </tbody>\n</table>\n</div>"
     },
     "metadata": {},
     "execution_count": 15
    }
   ],
   "source": [
    "# Quantidade de internações por Leito\\Especialidade\n",
    "df.groupby(rdtab['Leito\\Especialidade']).agg({'N_AIH': 'count'})"
   ],
   "metadata": {
    "collapsed": false,
    "pycharm": {
     "name": "#%%\n"
    }
   }
  },
  {
   "cell_type": "code",
   "execution_count": 12,
   "outputs": [
    {
     "data": {
      "text/plain": "                                                    N_AIH\nDIAG_PRINC                                               \nI.   Algumas doenças infecciosas e parasitárias       238\nII.  Neoplasias (tumores)                             133\nIII. Doenças sangue órgãos hemat e transt imunitár     43\nIV.  Doenças endócrinas nutricionais e metabólicas     65\nIX.  Doenças do aparelho circulatório                 237\nV.   Transtornos mentais e comportamentais            114\nVI.  Doenças do sistema nervoso                        55\nVII. Doenças do olho e anexos                           6\nVIII.Doenças do ouvido e da apófise mastóide            1\nX.   Doenças do aparelho respiratório                 236\nXI.  Doenças do aparelho digestivo                    394\nXII. Doenças da pele e do tecido subcutâneo            96\nXIII.Doenças sist osteomuscular e tec conjuntivo       37\nXIV. Doenças do aparelho geniturinário                265\nXIX. Lesões enven e alg out conseq causas externas    467\nXV.  Gravidez parto e puerpério                      1174\nXVI. Algumas afec originadas no período perinatal      85\nXVII.Malf cong deformid e anomalias cromossômicas      25\nXVIII.Sint sinais e achad anorm ex clín e laborat      58\nXXI. Contatos com serviços de saúde                    55",
      "text/html": "<div>\n<style scoped>\n    .dataframe tbody tr th:only-of-type {\n        vertical-align: middle;\n    }\n\n    .dataframe tbody tr th {\n        vertical-align: top;\n    }\n\n    .dataframe thead th {\n        text-align: right;\n    }\n</style>\n<table border=\"1\" class=\"dataframe\">\n  <thead>\n    <tr style=\"text-align: right;\">\n      <th></th>\n      <th>N_AIH</th>\n    </tr>\n    <tr>\n      <th>DIAG_PRINC</th>\n      <th></th>\n    </tr>\n  </thead>\n  <tbody>\n    <tr>\n      <th>I.   Algumas doenças infecciosas e parasitárias</th>\n      <td>238</td>\n    </tr>\n    <tr>\n      <th>II.  Neoplasias (tumores)</th>\n      <td>133</td>\n    </tr>\n    <tr>\n      <th>III. Doenças sangue órgãos hemat e transt imunitár</th>\n      <td>43</td>\n    </tr>\n    <tr>\n      <th>IV.  Doenças endócrinas nutricionais e metabólicas</th>\n      <td>65</td>\n    </tr>\n    <tr>\n      <th>IX.  Doenças do aparelho circulatório</th>\n      <td>237</td>\n    </tr>\n    <tr>\n      <th>V.   Transtornos mentais e comportamentais</th>\n      <td>114</td>\n    </tr>\n    <tr>\n      <th>VI.  Doenças do sistema nervoso</th>\n      <td>55</td>\n    </tr>\n    <tr>\n      <th>VII. Doenças do olho e anexos</th>\n      <td>6</td>\n    </tr>\n    <tr>\n      <th>VIII.Doenças do ouvido e da apófise mastóide</th>\n      <td>1</td>\n    </tr>\n    <tr>\n      <th>X.   Doenças do aparelho respiratório</th>\n      <td>236</td>\n    </tr>\n    <tr>\n      <th>XI.  Doenças do aparelho digestivo</th>\n      <td>394</td>\n    </tr>\n    <tr>\n      <th>XII. Doenças da pele e do tecido subcutâneo</th>\n      <td>96</td>\n    </tr>\n    <tr>\n      <th>XIII.Doenças sist osteomuscular e tec conjuntivo</th>\n      <td>37</td>\n    </tr>\n    <tr>\n      <th>XIV. Doenças do aparelho geniturinário</th>\n      <td>265</td>\n    </tr>\n    <tr>\n      <th>XIX. Lesões enven e alg out conseq causas externas</th>\n      <td>467</td>\n    </tr>\n    <tr>\n      <th>XV.  Gravidez parto e puerpério</th>\n      <td>1174</td>\n    </tr>\n    <tr>\n      <th>XVI. Algumas afec originadas no período perinatal</th>\n      <td>85</td>\n    </tr>\n    <tr>\n      <th>XVII.Malf cong deformid e anomalias cromossômicas</th>\n      <td>25</td>\n    </tr>\n    <tr>\n      <th>XVIII.Sint sinais e achad anorm ex clín e laborat</th>\n      <td>58</td>\n    </tr>\n    <tr>\n      <th>XXI. Contatos com serviços de saúde</th>\n      <td>55</td>\n    </tr>\n  </tbody>\n</table>\n</div>"
     },
     "execution_count": 12,
     "metadata": {},
     "output_type": "execute_result"
    }
   ],
   "source": [
    "# Quantidade de internações por Diagnóstico (descrição de longa/linha)\n",
    "df.groupby(rdtab.rows['Diagnóstico CID10 (capítulo)']).agg({'N_AIH': 'count'})"
   ],
   "metadata": {
    "collapsed": false,
    "pycharm": {
     "name": "#%%\n"
    }
   }
  },
  {
   "cell_type": "code",
   "execution_count": 13,
   "outputs": [
    {
     "data": {
      "text/plain": "            N_AIH\nDIAG_PRINC       \nCap I         238\nCap II        133\nCap III        43\nCap IV         65\nCap IX        237\nCap V         114\nCap VI         55\nCap VII         6\nCap VIII        1\nCap X         236\nCap XI        394\nCap XII        96\nCap XIII       37\nCap XIV       265\nCap XIX       467\nCap XV       1174\nCap XVI        85\nCap XVII       25\nCap XVIII      58\nCap XXI        55",
      "text/html": "<div>\n<style scoped>\n    .dataframe tbody tr th:only-of-type {\n        vertical-align: middle;\n    }\n\n    .dataframe tbody tr th {\n        vertical-align: top;\n    }\n\n    .dataframe thead th {\n        text-align: right;\n    }\n</style>\n<table border=\"1\" class=\"dataframe\">\n  <thead>\n    <tr style=\"text-align: right;\">\n      <th></th>\n      <th>N_AIH</th>\n    </tr>\n    <tr>\n      <th>DIAG_PRINC</th>\n      <th></th>\n    </tr>\n  </thead>\n  <tbody>\n    <tr>\n      <th>Cap I</th>\n      <td>238</td>\n    </tr>\n    <tr>\n      <th>Cap II</th>\n      <td>133</td>\n    </tr>\n    <tr>\n      <th>Cap III</th>\n      <td>43</td>\n    </tr>\n    <tr>\n      <th>Cap IV</th>\n      <td>65</td>\n    </tr>\n    <tr>\n      <th>Cap IX</th>\n      <td>237</td>\n    </tr>\n    <tr>\n      <th>Cap V</th>\n      <td>114</td>\n    </tr>\n    <tr>\n      <th>Cap VI</th>\n      <td>55</td>\n    </tr>\n    <tr>\n      <th>Cap VII</th>\n      <td>6</td>\n    </tr>\n    <tr>\n      <th>Cap VIII</th>\n      <td>1</td>\n    </tr>\n    <tr>\n      <th>Cap X</th>\n      <td>236</td>\n    </tr>\n    <tr>\n      <th>Cap XI</th>\n      <td>394</td>\n    </tr>\n    <tr>\n      <th>Cap XII</th>\n      <td>96</td>\n    </tr>\n    <tr>\n      <th>Cap XIII</th>\n      <td>37</td>\n    </tr>\n    <tr>\n      <th>Cap XIV</th>\n      <td>265</td>\n    </tr>\n    <tr>\n      <th>Cap XIX</th>\n      <td>467</td>\n    </tr>\n    <tr>\n      <th>Cap XV</th>\n      <td>1174</td>\n    </tr>\n    <tr>\n      <th>Cap XVI</th>\n      <td>85</td>\n    </tr>\n    <tr>\n      <th>Cap XVII</th>\n      <td>25</td>\n    </tr>\n    <tr>\n      <th>Cap XVIII</th>\n      <td>58</td>\n    </tr>\n    <tr>\n      <th>Cap XXI</th>\n      <td>55</td>\n    </tr>\n  </tbody>\n</table>\n</div>"
     },
     "execution_count": 13,
     "metadata": {},
     "output_type": "execute_result"
    }
   ],
   "source": [
    "# Quantidade de internações por Diagnóstico (descrição curta/coluna)\n",
    "df.groupby(rdtab.columns['Diagnóstico CID10 (capítulo)']).agg({'N_AIH': 'count'})"
   ],
   "metadata": {
    "collapsed": false,
    "pycharm": {
     "name": "#%%\n"
    }
   }
  },
  {
   "cell_type": "code",
   "execution_count": 14,
   "outputs": [
    {
     "data": {
      "text/plain": "               uf       sexo           etnia          id    valor\n0         12 Acre  Masculino           Parda  AIH normal   248.35\n1         12 Acre  Masculino          Branca  AIH normal   334.05\n2         12 Acre  Masculino           Parda  AIH normal   335.47\n3         12 Acre   Feminino           Parda  AIH normal   242.46\n4         12 Acre   Feminino  Sem informação  AIH normal   858.54\n...           ...        ...             ...         ...      ...\n3779      12 Acre   Feminino           Parda  AIH normal  1293.30\n3780      12 Acre   Feminino         Amarela  AIH normal   766.69\n3781  13 Amazonas   Feminino          Branca  AIH normal   554.28\n3782      12 Acre   Feminino           Parda  AIH normal   743.49\n3783      12 Acre   Feminino           Parda  AIH normal  1052.74\n\n[3784 rows x 5 columns]",
      "text/html": "<div>\n<style scoped>\n    .dataframe tbody tr th:only-of-type {\n        vertical-align: middle;\n    }\n\n    .dataframe tbody tr th {\n        vertical-align: top;\n    }\n\n    .dataframe thead th {\n        text-align: right;\n    }\n</style>\n<table border=\"1\" class=\"dataframe\">\n  <thead>\n    <tr style=\"text-align: right;\">\n      <th></th>\n      <th>uf</th>\n      <th>sexo</th>\n      <th>etnia</th>\n      <th>id</th>\n      <th>valor</th>\n    </tr>\n  </thead>\n  <tbody>\n    <tr>\n      <th>0</th>\n      <td>12 Acre</td>\n      <td>Masculino</td>\n      <td>Parda</td>\n      <td>AIH normal</td>\n      <td>248.35</td>\n    </tr>\n    <tr>\n      <th>1</th>\n      <td>12 Acre</td>\n      <td>Masculino</td>\n      <td>Branca</td>\n      <td>AIH normal</td>\n      <td>334.05</td>\n    </tr>\n    <tr>\n      <th>2</th>\n      <td>12 Acre</td>\n      <td>Masculino</td>\n      <td>Parda</td>\n      <td>AIH normal</td>\n      <td>335.47</td>\n    </tr>\n    <tr>\n      <th>3</th>\n      <td>12 Acre</td>\n      <td>Feminino</td>\n      <td>Parda</td>\n      <td>AIH normal</td>\n      <td>242.46</td>\n    </tr>\n    <tr>\n      <th>4</th>\n      <td>12 Acre</td>\n      <td>Feminino</td>\n      <td>Sem informação</td>\n      <td>AIH normal</td>\n      <td>858.54</td>\n    </tr>\n    <tr>\n      <th>...</th>\n      <td>...</td>\n      <td>...</td>\n      <td>...</td>\n      <td>...</td>\n      <td>...</td>\n    </tr>\n    <tr>\n      <th>3779</th>\n      <td>12 Acre</td>\n      <td>Feminino</td>\n      <td>Parda</td>\n      <td>AIH normal</td>\n      <td>1293.30</td>\n    </tr>\n    <tr>\n      <th>3780</th>\n      <td>12 Acre</td>\n      <td>Feminino</td>\n      <td>Amarela</td>\n      <td>AIH normal</td>\n      <td>766.69</td>\n    </tr>\n    <tr>\n      <th>3781</th>\n      <td>13 Amazonas</td>\n      <td>Feminino</td>\n      <td>Branca</td>\n      <td>AIH normal</td>\n      <td>554.28</td>\n    </tr>\n    <tr>\n      <th>3782</th>\n      <td>12 Acre</td>\n      <td>Feminino</td>\n      <td>Parda</td>\n      <td>AIH normal</td>\n      <td>743.49</td>\n    </tr>\n    <tr>\n      <th>3783</th>\n      <td>12 Acre</td>\n      <td>Feminino</td>\n      <td>Parda</td>\n      <td>AIH normal</td>\n      <td>1052.74</td>\n    </tr>\n  </tbody>\n</table>\n<p>3784 rows × 5 columns</p>\n</div>"
     },
     "execution_count": 14,
     "metadata": {},
     "output_type": "execute_result"
    }
   ],
   "source": [
    "new_df = pandas.DataFrame({\n",
    "    'uf': rdtab['Unid da Federação de Resid.'],\n",
    "    'sexo': rdtab['Sexo'],\n",
    "    'etnia': rdtab['Cor/raça'],\n",
    "    'id': rdtab['Identificação'],\n",
    "    'valor': rdtab['Valor Total']\n",
    "})\n",
    "new_df"
   ],
   "metadata": {
    "collapsed": false,
    "pycharm": {
     "name": "#%%\n"
    }
   }
  },
  {
   "cell_type": "code",
   "execution_count": 15,
   "outputs": [
    {
     "data": {
      "text/plain": "                                              id      valor\nuf                sexo      etnia                          \n11 Rondônia       Feminino  Amarela            2    2303.04\n                            Branca             4    2613.00\n                            Indígena           1    1076.74\n                            Parda             15   13850.73\n                            Preta              1     516.60\n                            Sem informação     4    2276.92\n                  Masculino Amarela            4    1835.25\n                            Branca             1     442.71\n                            Parda              5    2834.14\n                            Preta              2    3938.97\n                            Sem informação     3   16026.05\n12 Acre           Feminino  Amarela          290  256176.51\n                            Branca           101   78269.19\n                            Indígena          25   19650.01\n                            Parda           1409  862282.36\n                            Preta             26   19032.49\n                            Sem informação   423  389341.07\n                  Masculino Amarela          200  161595.73\n                            Branca            70   38469.24\n                            Indígena          16   34299.48\n                            Parda            770  734121.85\n                            Preta             15   11283.71\n                            Sem informação   271  492709.26\n13 Amazonas       Feminino  Amarela           10   10009.83\n                            Branca             5    2447.92\n                            Indígena           3    1740.65\n                            Parda             31   14487.31\n                            Preta              2    1496.81\n                            Sem informação     6   12327.79\n                  Masculino Amarela           10    5252.93\n                            Branca             6   14356.96\n                            Indígena           1     690.43\n                            Parda             29   57548.46\n                            Preta              1     606.08\n                            Sem informação     7   41838.53\n14 Roraima        Feminino  Parda              1     203.82\n                  Masculino Amarela            1    1604.56\n16 Amapá          Feminino  Parda              1    1381.41\n21 Maranhão       Masculino Amarela            1    1828.28\n25 Paraíba        Masculino Branca             1     511.35\n28 Sergipe        Masculino Sem informação     1    9919.92\n29 Bahia          Feminino  Parda              1    1842.78\n31 Minas Gerais   Feminino  Parda              1     198.81\n32 Espírito Santo Feminino  Parda              1    1566.27\n35 São Paulo      Feminino  Parda              1      44.22\n                  Masculino Branca             1       0.00\n42 Santa Catarina Feminino  Amarela            1     188.62\n51 Mato Grosso    Feminino  Branca             1     706.52\n                            Parda              1    3174.69\n                  Masculino Parda              1     883.55",
      "text/html": "<div>\n<style scoped>\n    .dataframe tbody tr th:only-of-type {\n        vertical-align: middle;\n    }\n\n    .dataframe tbody tr th {\n        vertical-align: top;\n    }\n\n    .dataframe thead th {\n        text-align: right;\n    }\n</style>\n<table border=\"1\" class=\"dataframe\">\n  <thead>\n    <tr style=\"text-align: right;\">\n      <th></th>\n      <th></th>\n      <th></th>\n      <th>id</th>\n      <th>valor</th>\n    </tr>\n    <tr>\n      <th>uf</th>\n      <th>sexo</th>\n      <th>etnia</th>\n      <th></th>\n      <th></th>\n    </tr>\n  </thead>\n  <tbody>\n    <tr>\n      <th rowspan=\"11\" valign=\"top\">11 Rondônia</th>\n      <th rowspan=\"6\" valign=\"top\">Feminino</th>\n      <th>Amarela</th>\n      <td>2</td>\n      <td>2303.04</td>\n    </tr>\n    <tr>\n      <th>Branca</th>\n      <td>4</td>\n      <td>2613.00</td>\n    </tr>\n    <tr>\n      <th>Indígena</th>\n      <td>1</td>\n      <td>1076.74</td>\n    </tr>\n    <tr>\n      <th>Parda</th>\n      <td>15</td>\n      <td>13850.73</td>\n    </tr>\n    <tr>\n      <th>Preta</th>\n      <td>1</td>\n      <td>516.60</td>\n    </tr>\n    <tr>\n      <th>Sem informação</th>\n      <td>4</td>\n      <td>2276.92</td>\n    </tr>\n    <tr>\n      <th rowspan=\"5\" valign=\"top\">Masculino</th>\n      <th>Amarela</th>\n      <td>4</td>\n      <td>1835.25</td>\n    </tr>\n    <tr>\n      <th>Branca</th>\n      <td>1</td>\n      <td>442.71</td>\n    </tr>\n    <tr>\n      <th>Parda</th>\n      <td>5</td>\n      <td>2834.14</td>\n    </tr>\n    <tr>\n      <th>Preta</th>\n      <td>2</td>\n      <td>3938.97</td>\n    </tr>\n    <tr>\n      <th>Sem informação</th>\n      <td>3</td>\n      <td>16026.05</td>\n    </tr>\n    <tr>\n      <th rowspan=\"12\" valign=\"top\">12 Acre</th>\n      <th rowspan=\"6\" valign=\"top\">Feminino</th>\n      <th>Amarela</th>\n      <td>290</td>\n      <td>256176.51</td>\n    </tr>\n    <tr>\n      <th>Branca</th>\n      <td>101</td>\n      <td>78269.19</td>\n    </tr>\n    <tr>\n      <th>Indígena</th>\n      <td>25</td>\n      <td>19650.01</td>\n    </tr>\n    <tr>\n      <th>Parda</th>\n      <td>1409</td>\n      <td>862282.36</td>\n    </tr>\n    <tr>\n      <th>Preta</th>\n      <td>26</td>\n      <td>19032.49</td>\n    </tr>\n    <tr>\n      <th>Sem informação</th>\n      <td>423</td>\n      <td>389341.07</td>\n    </tr>\n    <tr>\n      <th rowspan=\"6\" valign=\"top\">Masculino</th>\n      <th>Amarela</th>\n      <td>200</td>\n      <td>161595.73</td>\n    </tr>\n    <tr>\n      <th>Branca</th>\n      <td>70</td>\n      <td>38469.24</td>\n    </tr>\n    <tr>\n      <th>Indígena</th>\n      <td>16</td>\n      <td>34299.48</td>\n    </tr>\n    <tr>\n      <th>Parda</th>\n      <td>770</td>\n      <td>734121.85</td>\n    </tr>\n    <tr>\n      <th>Preta</th>\n      <td>15</td>\n      <td>11283.71</td>\n    </tr>\n    <tr>\n      <th>Sem informação</th>\n      <td>271</td>\n      <td>492709.26</td>\n    </tr>\n    <tr>\n      <th rowspan=\"12\" valign=\"top\">13 Amazonas</th>\n      <th rowspan=\"6\" valign=\"top\">Feminino</th>\n      <th>Amarela</th>\n      <td>10</td>\n      <td>10009.83</td>\n    </tr>\n    <tr>\n      <th>Branca</th>\n      <td>5</td>\n      <td>2447.92</td>\n    </tr>\n    <tr>\n      <th>Indígena</th>\n      <td>3</td>\n      <td>1740.65</td>\n    </tr>\n    <tr>\n      <th>Parda</th>\n      <td>31</td>\n      <td>14487.31</td>\n    </tr>\n    <tr>\n      <th>Preta</th>\n      <td>2</td>\n      <td>1496.81</td>\n    </tr>\n    <tr>\n      <th>Sem informação</th>\n      <td>6</td>\n      <td>12327.79</td>\n    </tr>\n    <tr>\n      <th rowspan=\"6\" valign=\"top\">Masculino</th>\n      <th>Amarela</th>\n      <td>10</td>\n      <td>5252.93</td>\n    </tr>\n    <tr>\n      <th>Branca</th>\n      <td>6</td>\n      <td>14356.96</td>\n    </tr>\n    <tr>\n      <th>Indígena</th>\n      <td>1</td>\n      <td>690.43</td>\n    </tr>\n    <tr>\n      <th>Parda</th>\n      <td>29</td>\n      <td>57548.46</td>\n    </tr>\n    <tr>\n      <th>Preta</th>\n      <td>1</td>\n      <td>606.08</td>\n    </tr>\n    <tr>\n      <th>Sem informação</th>\n      <td>7</td>\n      <td>41838.53</td>\n    </tr>\n    <tr>\n      <th rowspan=\"2\" valign=\"top\">14 Roraima</th>\n      <th>Feminino</th>\n      <th>Parda</th>\n      <td>1</td>\n      <td>203.82</td>\n    </tr>\n    <tr>\n      <th>Masculino</th>\n      <th>Amarela</th>\n      <td>1</td>\n      <td>1604.56</td>\n    </tr>\n    <tr>\n      <th>16 Amapá</th>\n      <th>Feminino</th>\n      <th>Parda</th>\n      <td>1</td>\n      <td>1381.41</td>\n    </tr>\n    <tr>\n      <th>21 Maranhão</th>\n      <th>Masculino</th>\n      <th>Amarela</th>\n      <td>1</td>\n      <td>1828.28</td>\n    </tr>\n    <tr>\n      <th>25 Paraíba</th>\n      <th>Masculino</th>\n      <th>Branca</th>\n      <td>1</td>\n      <td>511.35</td>\n    </tr>\n    <tr>\n      <th>28 Sergipe</th>\n      <th>Masculino</th>\n      <th>Sem informação</th>\n      <td>1</td>\n      <td>9919.92</td>\n    </tr>\n    <tr>\n      <th>29 Bahia</th>\n      <th>Feminino</th>\n      <th>Parda</th>\n      <td>1</td>\n      <td>1842.78</td>\n    </tr>\n    <tr>\n      <th>31 Minas Gerais</th>\n      <th>Feminino</th>\n      <th>Parda</th>\n      <td>1</td>\n      <td>198.81</td>\n    </tr>\n    <tr>\n      <th>32 Espírito Santo</th>\n      <th>Feminino</th>\n      <th>Parda</th>\n      <td>1</td>\n      <td>1566.27</td>\n    </tr>\n    <tr>\n      <th rowspan=\"2\" valign=\"top\">35 São Paulo</th>\n      <th>Feminino</th>\n      <th>Parda</th>\n      <td>1</td>\n      <td>44.22</td>\n    </tr>\n    <tr>\n      <th>Masculino</th>\n      <th>Branca</th>\n      <td>1</td>\n      <td>0.00</td>\n    </tr>\n    <tr>\n      <th>42 Santa Catarina</th>\n      <th>Feminino</th>\n      <th>Amarela</th>\n      <td>1</td>\n      <td>188.62</td>\n    </tr>\n    <tr>\n      <th rowspan=\"3\" valign=\"top\">51 Mato Grosso</th>\n      <th rowspan=\"2\" valign=\"top\">Feminino</th>\n      <th>Branca</th>\n      <td>1</td>\n      <td>706.52</td>\n    </tr>\n    <tr>\n      <th>Parda</th>\n      <td>1</td>\n      <td>3174.69</td>\n    </tr>\n    <tr>\n      <th>Masculino</th>\n      <th>Parda</th>\n      <td>1</td>\n      <td>883.55</td>\n    </tr>\n  </tbody>\n</table>\n</div>"
     },
     "execution_count": 15,
     "metadata": {},
     "output_type": "execute_result"
    }
   ],
   "source": [
    "new_df.groupby(['uf', 'sexo', 'etnia']).agg({'id': 'count', 'valor': 'sum'})"
   ],
   "metadata": {
    "collapsed": false,
    "pycharm": {
     "name": "#%%\n"
    }
   }
  },
  {
   "cell_type": "code",
   "execution_count": 19,
   "outputs": [
    {
     "name": "stderr",
     "output_type": "stream",
     "text": [
      "ERROR:root:Error in line 16: XDO epidemiologica, STDOEPIDEM  1, DONOVA.CNV\n",
      ". __init__() missing 1 required positional argument: 'cnv_filename'\n"
     ]
    },
    {
     "data": {
      "text/plain": "[ORIGEM, CAUMUL, Mal definidas-OMS, Maldefinição-SVS/MS, Codigos Garbage, NUMERO DO MAT, Hospital Amigo, Hospital Amigo, DO novo modelo, Ano do Obito, Mes do Obito, Mes do Cadastro, Mes de Investigac, Dia Recebimento, Mes Recebimento, Ano Recebimento, Dia 1º Recebimento, Mes 1º Recebimento, Ano 1º Recebimento, Tipo Obito, Instalacao, Munic Instal, Munic Instal, Numero Micro, Numero Micro, Com Codificador, Codificado, Obito investigado, C nao Codificadas, Versao Sistema, Versao SCB, Causa (CID10 3D), Causa (CID10 3D), Causa (Cap CID10), Causa (Cap CID10), Causa (Cap CID10), Causa (CID10 BR), Causa Original, Causa Original, Causa Orig Capit, Causa Orig Capit, Causas Asterisco, Causas Asterisco, Causas Invalidas, Causas Invalidas, Causas presumiveis, Causas presumiveis, StatusRessel S N, Motivo N RESSELEC, COMPARA_CB, Ano Resselecao, Mes Resselecao, Versão Resselec, Versão Scb_Pre, Versao SCB R, Causas Determin, Causas Determin, D Isquem Coracao, D Isquem Coracao, Homicidios, Homicidios, Suicidios, Suicidios, Neoplasias, Neoplasias, Imunopreviniveis, Imunopreviniveis, DCNT_PRE, CID10 4C Cap 01, CID10 4C Cap 01, CID10 4C Cap 02, CID10 4C Cap 02, CID10 4C Cap 03, CID10 4C Cap 03, CID10 4C Cap 04, CID10 4C Cap 04, CID10 4C Cap 05, CID10 4C Cap 05, CID10 4C Cap 06, CID10 4C Cap 06, CID10 4C Cap 07, CID10 4C Cap 07, CID10 4C Cap 08, CID10 4C Cap 08, CID10 4C Cap 09, CID10 4C Cap 09, CID10 4C Cap 10, CID10 4C Cap 10, CID10 4C Cap 11, CID10 4C Cap 11, CID10 4C Cap 12, CID10 4C Cap 12, CID10 4C Cap 13, CID10 4C Cap 13, CID10 4C Cap 14, CID10 4C Cap 14, CID10 4C Cap 15, CID10 4C Cap 15, CID10 4C Cap 16, CID10 4C Cap 16, CID10 4C Cap 17, CID10 4C Cap 17, CID10 4C Cap 18, CID10 4C Cap 18, CID10 4C Cap 20, CID10 4C Cap 20, Retroalimentacao, UF Resid, UF Resid, UF Resid col, UF Resid/Regiao, Regiao Res, Regiao Res, Regiao Res, RegMetr Res-BR, RegMetr Res-BR, Capital Res, Capital Res, Munic Res - BRA, Munic Res - BRA, Munic Resid - AC, Munic Resid - AC, Munic Resid - RO, Munic Resid - RO, Munic Resid - AM, Munic Resid - AM, Munic Resid - RR, Munic Resid - RR, Munic Resid - PA, Munic Resid - PA, Munic Resid - AP, Munic Resid - AP, Munic Resid - TO, Munic Resid - TO, Munic Resid - MA, Munic Resid - MA, Munic Resid - PI, Munic Resid - PI, Munic Resid - CE, Munic Resid - CE, Munic Resid - RN, Munic Resid - RN, Munic Resid - PB, Munic Resid - PB, Munic Resid - PE, Munic Resid - PE, Munic Resid - AL, Munic Resid - AL, Munic Resid - SE, Munic Resid - SE, Munic Resid - BA, Munic Resid - BA, Munic Resid - MG, Munic Resid - MG, Munic Resid - ES, Munic Resid - ES, Munic Resid - RJ, Munic Resid - RJ, Munic Resid - SP, Munic Resid - SP, Munic Resid - PR, Munic Resid - PR, Munic Resid - SC, Munic Resid - SC, Munic Resid - PR, Munic Resid - PR, Munic Resid - SC, Munic Resid - SC, Munic Resid - RS, Munic Resid - RS, Munic Resid - MS, Munic Resid - MS, Munic Resid - MT, Munic Resid - MT, Munic Resid - GO, Munic Resid - GO, Munic Resid-DF, Munic Resid-DF, Entorno DF_Res, Local Ocorrencia, Estabelecim Saude, Esf Adm pub/ñpub, Natur Organiz 2006, Natur Organiz 2006, Nat Org Estab 2007, Nat Org Estab 2007, Regiao Ocor, Regiao Ocor, Regiao Ocor, UF Ocor, UF Ocor, UF Ocor, RegMetr Ocor-BR, Capital Ocor, Munic Ocor - BRA, Munic Ocor - BRA, Munic Ocorr - AC, Munic Ocorr - AC, Munic Ocorr - RO, Munic Ocorr - RO, Munic Ocorr - AM, Munic Ocorr - AM, Munic Ocorr - RR, Munic Ocorr - RR, Munic Ocorr - PA, Munic Ocorr - PA, Munic Ocorr - AP, Munic Ocorr - AP, Munic Ocorr - TO, Munic Ocorr - TO, Munic Ocorr - MA, Munic Ocorr - MA, Munic Ocorr - PI, Munic Ocorr - PI, Munic Ocorr - CE, Munic Ocorr - CE, Munic Ocorr - RN, Munic Ocorr - RN, Munic Ocorr - PB, Munic Ocorr - PB, Munic Ocorr - PE, Munic Ocorr - PE, Munic Ocorr - AL, Munic Ocorr - AL, Munic Ocorr - SE, Munic Ocorr - SE, Munic Ocorr - BA, Munic Ocorr - BA, Munic Ocorr - MG, Munic Ocorr - MG, Munic Ocorr - ES, Munic Ocorr - ES, Munic Ocorr - RJ, Munic Ocorr - RJ, Munic Ocorr - SP, Munic Ocorr - SP, Munic Ocorr - PR, Munic Ocorr - PR, Munic Ocorr - SC, Munic Ocorr - SC, Munic Ocorr - PR, Munic Ocorr - PR, Munic Ocorr - SC, Munic Ocorr - SC, Munic Ocorr - RS, Munic Ocorr - RS, Munic Ocorr - MS, Munic Ocorr - MS, Munic Ocorr - MT, Munic Ocorr - MT, Munic Ocorr - GO, Munic Ocorr - GO, Munic Ocorr-DF, Munic Ocorr-DF, Entorno DF_OCor, Escol anos concl, Escol series, Escol series agreg, Esc Mae anos conc, Esc Mae series, Esc Mae ser agreg, Sexo, Estado Civil, Idade Detalhada, Idade Detalhada, Faixa Etaria (5), Faixa Etaria (9), Faixa Etaria (13), Faixa Etaria OMS, Fx Etar Infant 1, Fx Etar Infant 2, Tipo de Violencia, Raca Cor, Raca Cor, Naturalidade, Naturalidade, Munic Naturalid, Munic Naturalid, Munic IML/SVO, Munic IML/SVO, Assist Medica, Medico Atest, Necropsia, Acid Trabalho, Idade Mãe, Ocupação Mãe, Ocupação Mãe, Filhos Vivos, Filhos Mortos, Gravidez, Tipo Parto, Obito Parto, Semanas Gestação, Gestac Detalhada, Peso Nascer, Obito na Gravidez, Obito no Puerp, Ob Mulher id Fert, Ocupacao, Ocupacao, Ocup Grande Grupo, Ocup Grande Grupo, Ocup Subgrupo 3d, Ocup Subgrupo 3d, Oc Subgrupo Princ, Oc Subgrupo Princ, Ocupac Familia 4d, Ocupac Familia 4d, Ocup Sist Antigo, Ocup Sist Antigo, Oc Gr Sist Antigo, Oc Gr Sist Antigo, Naturalidade, Cirurgia, Exame complem, Fonte Informac, Fonte Investig]"
     },
     "metadata": {},
     "output_type": "display_data"
    },
    {
     "data": {
      "text/plain": "[]"
     },
     "metadata": {},
     "output_type": "display_data"
    }
   ],
   "source": [
    "obitos = tabsus.DATABASES['SIM'].tabsus['OBITO']\n",
    "display(obitos.dimensions)\n",
    "display(obitos.increments)"
   ],
   "metadata": {
    "collapsed": false,
    "pycharm": {
     "name": "#%%\n"
    }
   }
  }
 ],
 "metadata": {
  "kernelspec": {
   "name": "python38264bit4fca3dc87e7b4c7ea8afce38d79552f1",
   "language": "python",
   "display_name": "Python 3.8.2 64-bit"
  },
  "language_info": {
   "codemirror_mode": {
    "name": "ipython",
    "version": 2
   },
   "file_extension": ".py",
   "mimetype": "text/x-python",
   "name": "python",
   "nbconvert_exporter": "python",
   "pygments_lexer": "ipython2",
   "version": "3.8.5"
  },
  "metadata": {
   "interpreter": {
    "hash": "31f2aee4e71d21fbe5cf8b01ff0e069b9275f58929596ceb00d14d90e3e16cd6"
   }
  }
 },
 "nbformat": 4,
 "nbformat_minor": 0
}